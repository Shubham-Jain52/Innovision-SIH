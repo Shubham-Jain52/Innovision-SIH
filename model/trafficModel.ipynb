{
 "cells": [
  {
   "cell_type": "markdown",
   "metadata": {},
   "source": [
    "# AI Traffic Prediction Model"
   ]
  },
  {
   "cell_type": "markdown",
   "metadata": {},
   "source": [
    "### 1. Data Preprocessing & Feature Engineering"
   ]
  },
  {
   "cell_type": "code",
   "execution_count": 2,
   "metadata": {},
   "outputs": [],
   "source": [
    "import pandas as pd\n",
    "import numpy as np\n",
    "import lightgbm as lgb\n",
    "from sklearn.metrics import mean_absolute_error, mean_squared_error\n",
    "import pickle"
   ]
  },
  {
   "cell_type": "code",
   "execution_count": null,
   "metadata": {},
   "outputs": [],
   "source": [
    "# Load the dataset\n",
    "df = pd.read_csv('traffic.csv')\n",
    "\n",
    "# Convert to datetime and extract time-based features\n",
    "df['DateTime'] = pd.to_datetime(df['DateTime'])\n",
    "\n",
    "# --- NEW: ONE-HOT ENCODING ---\n",
    "# Convert the 'Junction' column into separate indicator columns\n",
    "junction_dummies = pd.get_dummies(df['Junction'], prefix='Junction')\n",
    "df = pd.concat([df, junction_dummies], axis=1)\n",
    "# We no longer need the original 'Junction' column\n",
    "df = df.drop(columns=['Junction'])\n",
    "\n",
    "df['day_of_week'] = df['DateTime'].dt.dayofweek # Monday=0, Sunday=6\n",
    "df['hour_of_day'] = df['DateTime'].dt.hour\n",
    "df['is_weekend'] = ((df['day_of_week'] == 5) | (df['day_of_week'] == 6)).astype(int)\n",
    "\n",
    "# Set DateTime as the index to work with time-series features\n",
    "df = df.set_index('DateTime').sort_index()"
   ]
  },
  {
   "cell_type": "code",
   "execution_count": 4,
   "metadata": {},
   "outputs": [
    {
     "name": "stdout",
     "output_type": "stream",
     "text": [
      "Feature engineering complete. Data head:\n"
     ]
    },
    {
     "data": {
      "text/html": [
       "<div>\n",
       "<style scoped>\n",
       "    .dataframe tbody tr th:only-of-type {\n",
       "        vertical-align: middle;\n",
       "    }\n",
       "\n",
       "    .dataframe tbody tr th {\n",
       "        vertical-align: top;\n",
       "    }\n",
       "\n",
       "    .dataframe thead th {\n",
       "        text-align: right;\n",
       "    }\n",
       "</style>\n",
       "<table border=\"1\" class=\"dataframe\">\n",
       "  <thead>\n",
       "    <tr style=\"text-align: right;\">\n",
       "      <th></th>\n",
       "      <th>Junction</th>\n",
       "      <th>Vehicles</th>\n",
       "      <th>day_of_week</th>\n",
       "      <th>hour_of_day</th>\n",
       "      <th>is_weekend</th>\n",
       "      <th>vehicles_1_hour_ago</th>\n",
       "      <th>vehicles_2_hours_ago</th>\n",
       "      <th>vehicles_rolling_mean_3h</th>\n",
       "    </tr>\n",
       "    <tr>\n",
       "      <th>DateTime</th>\n",
       "      <th></th>\n",
       "      <th></th>\n",
       "      <th></th>\n",
       "      <th></th>\n",
       "      <th></th>\n",
       "      <th></th>\n",
       "      <th></th>\n",
       "      <th></th>\n",
       "    </tr>\n",
       "  </thead>\n",
       "  <tbody>\n",
       "    <tr>\n",
       "      <th>2015-11-01 00:00:00</th>\n",
       "      <td>3</td>\n",
       "      <td>9</td>\n",
       "      <td>6</td>\n",
       "      <td>0</td>\n",
       "      <td>1</td>\n",
       "      <td>6.0</td>\n",
       "      <td>15.0</td>\n",
       "      <td>10.000000</td>\n",
       "    </tr>\n",
       "    <tr>\n",
       "      <th>2015-11-01 01:00:00</th>\n",
       "      <td>3</td>\n",
       "      <td>7</td>\n",
       "      <td>6</td>\n",
       "      <td>1</td>\n",
       "      <td>1</td>\n",
       "      <td>9.0</td>\n",
       "      <td>6.0</td>\n",
       "      <td>7.333333</td>\n",
       "    </tr>\n",
       "    <tr>\n",
       "      <th>2015-11-01 01:00:00</th>\n",
       "      <td>1</td>\n",
       "      <td>13</td>\n",
       "      <td>6</td>\n",
       "      <td>1</td>\n",
       "      <td>1</td>\n",
       "      <td>7.0</td>\n",
       "      <td>9.0</td>\n",
       "      <td>9.666667</td>\n",
       "    </tr>\n",
       "    <tr>\n",
       "      <th>2015-11-01 01:00:00</th>\n",
       "      <td>2</td>\n",
       "      <td>6</td>\n",
       "      <td>6</td>\n",
       "      <td>1</td>\n",
       "      <td>1</td>\n",
       "      <td>13.0</td>\n",
       "      <td>7.0</td>\n",
       "      <td>8.666667</td>\n",
       "    </tr>\n",
       "    <tr>\n",
       "      <th>2015-11-01 02:00:00</th>\n",
       "      <td>2</td>\n",
       "      <td>5</td>\n",
       "      <td>6</td>\n",
       "      <td>2</td>\n",
       "      <td>1</td>\n",
       "      <td>6.0</td>\n",
       "      <td>13.0</td>\n",
       "      <td>8.000000</td>\n",
       "    </tr>\n",
       "  </tbody>\n",
       "</table>\n",
       "</div>"
      ],
      "text/plain": [
       "                     Junction  Vehicles  day_of_week  hour_of_day  is_weekend  \\\n",
       "DateTime                                                                        \n",
       "2015-11-01 00:00:00         3         9            6            0           1   \n",
       "2015-11-01 01:00:00         3         7            6            1           1   \n",
       "2015-11-01 01:00:00         1        13            6            1           1   \n",
       "2015-11-01 01:00:00         2         6            6            1           1   \n",
       "2015-11-01 02:00:00         2         5            6            2           1   \n",
       "\n",
       "                     vehicles_1_hour_ago  vehicles_2_hours_ago  \\\n",
       "DateTime                                                         \n",
       "2015-11-01 00:00:00                  6.0                  15.0   \n",
       "2015-11-01 01:00:00                  9.0                   6.0   \n",
       "2015-11-01 01:00:00                  7.0                   9.0   \n",
       "2015-11-01 01:00:00                 13.0                   7.0   \n",
       "2015-11-01 02:00:00                  6.0                  13.0   \n",
       "\n",
       "                     vehicles_rolling_mean_3h  \n",
       "DateTime                                       \n",
       "2015-11-01 00:00:00                 10.000000  \n",
       "2015-11-01 01:00:00                  7.333333  \n",
       "2015-11-01 01:00:00                  9.666667  \n",
       "2015-11-01 01:00:00                  8.666667  \n",
       "2015-11-01 02:00:00                  8.000000  "
      ]
     },
     "execution_count": 4,
     "metadata": {},
     "output_type": "execute_result"
    }
   ],
   "source": [
    "# Create lag and rolling features based on hourly data\n",
    "df['vehicles_1_hour_ago'] = df['Vehicles'].shift(1)\n",
    "df['vehicles_2_hours_ago'] = df['Vehicles'].shift(2)\n",
    "df['vehicles_rolling_mean_3h'] = df['Vehicles'].rolling(window=3).mean()\n",
    "\n",
    "# Drop rows with NaN values created by shifts and rolling windows\n",
    "df.dropna(inplace=True)\n",
    "\n",
    "# Drop columns that are no longer needed for the model\n",
    "df = df.drop(columns=['ID'])\n",
    "\n",
    "print(\"Feature engineering complete. Data head:\")\n",
    "df.head()"
   ]
  },
  {
   "cell_type": "markdown",
   "metadata": {},
   "source": [
    "### 2. Train/Test Split"
   ]
  },
  {
   "cell_type": "code",
   "execution_count": 5,
   "metadata": {},
   "outputs": [
    {
     "name": "stdout",
     "output_type": "stream",
     "text": [
      "Training set size: 43306\n",
      "Test set size: 4812\n"
     ]
    }
   ],
   "source": [
    "# The target is what you want to predict\n",
    "target_column = 'Vehicles' \n",
    "features = [col for col in df.columns if col != target_column]\n",
    "\n",
    "X = df[features]\n",
    "y = df[target_column]\n",
    "\n",
    "# Use the last 10% of the data for testing to simulate a real-world scenario\n",
    "cutoff_index = int(len(df) * 0.90)\n",
    "X_train, X_test = X[:cutoff_index], X[cutoff_index:]\n",
    "y_train, y_test = y[:cutoff_index], y[cutoff_index:]\n",
    "\n",
    "print(f\"Training set size: {len(X_train)}\")\n",
    "print(f\"Test set size: {len(X_test)}\")"
   ]
  },
  {
   "cell_type": "markdown",
   "metadata": {},
   "source": [
    "### 3. Model Training"
   ]
  },
  {
   "cell_type": "code",
   "execution_count": 6,
   "metadata": {},
   "outputs": [
    {
     "name": "stdout",
     "output_type": "stream",
     "text": [
      "--- Training LightGBM Regressor ---\n",
      "[LightGBM] [Info] Auto-choosing row-wise multi-threading, the overhead of testing was 0.002770 seconds.\n",
      "You can set `force_row_wise=true` to remove the overhead.\n",
      "And if memory is not enough, you can set `force_col_wise=true`.\n",
      "[LightGBM] [Info] Total Bins 490\n",
      "[LightGBM] [Info] Number of data points in the train set: 43306, number of used features: 7\n",
      "[LightGBM] [Info] Start training from score 21.961922\n",
      "Training complete.\n"
     ]
    }
   ],
   "source": [
    "# Initialize the LightGBM REGRESSOR for predicting a number\n",
    "model = lgb.LGBMRegressor(random_state=42)\n",
    "\n",
    "# Train the model on your actual traffic data\n",
    "print(\"--- Training LightGBM Regressor ---\")\n",
    "model.fit(X_train, y_train)\n",
    "print(\"Training complete.\")"
   ]
  },
  {
   "cell_type": "markdown",
   "metadata": {},
   "source": [
    "### 4. Model Evaluation"
   ]
  },
  {
   "cell_type": "code",
   "execution_count": 7,
   "metadata": {},
   "outputs": [
    {
     "name": "stdout",
     "output_type": "stream",
     "text": [
      "\n",
      "--- Model Performance ---\n",
      "Mean Absolute Error (MAE): 2.82\n",
      "Root Mean Squared Error (RMSE): 4.43\n"
     ]
    }
   ],
   "source": [
    "# Make predictions on the test data\n",
    "predictions = model.predict(X_test)\n",
    "\n",
    "# Calculate error metrics\n",
    "mae = mean_absolute_error(y_test, predictions)\n",
    "rmse = np.sqrt(mean_squared_error(y_test, predictions))\n",
    "\n",
    "print(f\"\\n--- Model Performance ---\")\n",
    "print(f\"Mean Absolute Error (MAE): {mae:.2f}\")\n",
    "print(f\"Root Mean Squared Error (RMSE): {rmse:.2f}\")"
   ]
  },
  {
   "cell_type": "markdown",
   "metadata": {},
   "source": [
    "### 5. Export the Model Using Pickle"
   ]
  },
  {
   "cell_type": "code",
   "execution_count": 8,
   "metadata": {},
   "outputs": [
    {
     "name": "stdout",
     "output_type": "stream",
     "text": [
      "\n",
      "Model successfully saved to 'traffic_model.pkl'\n"
     ]
    }
   ],
   "source": [
    "# Define the filename for your model\n",
    "model_filename = \"traffic_model.pkl\"\n",
    "\n",
    "# Open a file in write-binary mode and save the model\n",
    "with open(model_filename, \"wb\") as file:\n",
    "    pickle.dump(model, file)\n",
    "\n",
    "print(f\"\\nModel successfully saved to '{model_filename}'\")"
   ]
  },
  {
   "cell_type": "code",
   "execution_count": 9,
   "metadata": {},
   "outputs": [
    {
     "name": "stdout",
     "output_type": "stream",
     "text": [
      "Test data successfully saved to 'X_test_data.csv'\n"
     ]
    }
   ],
   "source": [
    "# --- EXPORT THE TEST DATA --- \n",
    "test_data_filename = \"X_test_data.csv\"\n",
    "# We save the index because it contains the crucial DateTime information\n",
    "X_test.to_csv(test_data_filename, index=True)\n",
    "\n",
    "print(f\"Test data successfully saved to '{test_data_filename}'\")"
   ]
  },
  {
   "cell_type": "code",
   "execution_count": null,
   "metadata": {},
   "outputs": [],
   "source": []
  }
 ],
 "metadata": {
  "kernelspec": {
   "display_name": "Python 3 (ipykernel)",
   "language": "python",
   "name": "python3"
  },
  "language_info": {
   "codemirror_mode": {
    "name": "ipython",
    "version": 3
   },
   "file_extension": ".py",
   "mimetype": "text/x-python",
   "name": "python",
   "nbconvert_exporter": "python",
   "pygments_lexer": "ipython3",
   "version": "3.12.11"
  }
 },
 "nbformat": 4,
 "nbformat_minor": 4
}
